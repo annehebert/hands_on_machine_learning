{
 "cells": [
  {
   "cell_type": "markdown",
   "metadata": {},
   "source": [
    "# Chapter 4: Training models\n",
    "\n",
    "\n",
    "### Linear regression\n",
    "We start by looking at a linear regression model and two different ways of training it. First using a direct, mathematically closed-form equation giving us the best fit to the training set. Second by using an iterative approach, Gradient Descent, in which a cost function is minimized by tweak the parameters of the model.\n",
    "\n",
    "Linear regression model prediction:\n",
    "$$ \\hat{y} = \\theta_0 + \\theta_1 x_1 + \\theta_2 x_2 + . . .  + \\theta_n x_n = \\vec{\\theta^T} \\vec{x}$$\n",
    "\n",
    "$\\hat{y}$ is the model's predicted value, n is the number of features, $x_i$ is the ith feature's value, and $\\theta_i$ is the jth parameter of the model.\n",
    "\n",
    "A common cost function to minimize is the MSE:\n",
    "$$ MSE(\\theta) = \\frac{1}{m} \\Sigma_i^m (\\theta^T x^i - y^i)$$\n",
    "\n",
    "$\\hat{\\theta}$ is the value of $\\theta$ that minimzes the MSE above. It is given by the Normal Equation:\n",
    "$$\\hat{\\theta} = (X^TX)^{-1} X^T y$$"
   ]
  },
  {
   "cell_type": "markdown",
   "metadata": {},
   "source": [
    "### Test this out!\n",
    "\n",
    "We generate some linear data with some noise on top."
   ]
  },
  {
   "cell_type": "code",
   "execution_count": 1,
   "metadata": {},
   "outputs": [
    {
     "data": {
      "text/plain": [
       "[<matplotlib.lines.Line2D at 0x7feaac6f62e0>]"
      ]
     },
     "execution_count": 1,
     "metadata": {},
     "output_type": "execute_result"
    },
    {
     "data": {
      "image/png": "[encoded data removed]",
      "text/plain": [
       "<Figure size 432x288 with 1 Axes>"
      ]
     },
     "metadata": {
      "needs_background": "light"
     },
     "output_type": "display_data"
    }
   ],
   "source": [
    "import numpy as np\n",
    "import matplotlib.pyplot as plt\n",
    "%matplotlib inline\n",
    "\n",
    "X = 2*np.random.rand(100,1)\n",
    "y = 4 + 3*X +np.random.rand(100,1)\n",
    "plt.xlabel(\"X\")\n",
    "plt.ylabel(\"y\")\n",
    "plt.ylim(0,12)\n",
    "plt.plot(X,y, '.')"
   ]
  },
  {
   "cell_type": "markdown",
   "metadata": {},
   "source": [
    "We use the normal equation from above (and the help of numpy's linalg.inv() function) to calculate $\\theta_{best}$ for this data."
   ]
  },
  {
   "cell_type": "code",
   "execution_count": 2,
   "metadata": {},
   "outputs": [],
   "source": [
    "X_b = np.c_[np.ones((100,1)),X]\n",
    "theta_best = np.linalg.inv(X_b.T.dot(X_b)).dot(X_b.T).dot(y)"
   ]
  },
  {
   "cell_type": "code",
   "execution_count": 3,
   "metadata": {},
   "outputs": [
    {
     "data": {
      "text/plain": [
       "array([[4.508583  ],\n",
       "       [2.99902179]])"
      ]
     },
     "execution_count": 3,
     "metadata": {},
     "output_type": "execute_result"
    }
   ],
   "source": [
    "theta_best"
   ]
  },
  {
   "cell_type": "markdown",
   "metadata": {},
   "source": [
    "The actual values used to generate the data were $\\theta_0=4$ and $\\theta_1=3$ so this is close enough, given that we added the noise on top of the linear model generating the data. We now use the theta_best vector $\\hat{\\theta}$ to make predictions:"
   ]
  },
  {
   "cell_type": "code",
   "execution_count": 4,
   "metadata": {},
   "outputs": [],
   "source": [
    "X_new = np.array([[0],[2]])\n",
    "X_new_b = np.c_[np.ones((2,1)), X_new]\n",
    "y_predict = X_new_b.dot(theta_best)"
   ]
  },
  {
   "cell_type": "code",
   "execution_count": 5,
   "metadata": {},
   "outputs": [
    {
     "data": {
      "text/plain": [
       "array([[ 4.508583  ],\n",
       "       [10.50662658]])"
      ]
     },
     "execution_count": 5,
     "metadata": {},
     "output_type": "execute_result"
    }
   ],
   "source": [
    "y_predict"
   ]
  },
  {
   "cell_type": "code",
   "execution_count": 6,
   "metadata": {},
   "outputs": [
    {
     "data": {
      "image/png": "[encoded data removed]",
      "text/plain": [
       "<Figure size 432x288 with 1 Axes>"
      ]
     },
     "metadata": {
      "needs_background": "light"
     },
     "output_type": "display_data"
    }
   ],
   "source": [
    "plt.plot(X,y, 'b.')\n",
    "plt.plot(X_new, y_predict, 'r-')\n",
    "plt.ylim(0,12)\n",
    "plt.ylabel(\"y\")\n",
    "plt.xlabel(\"X\")\n",
    "plt.show()"
   ]
  },
  {
   "cell_type": "markdown",
   "metadata": {},
   "source": [
    "We can now do the same with Scikit-Learn. The LinearRegression class is based on the least squares function."
   ]
  },
  {
   "cell_type": "code",
   "execution_count": 7,
   "metadata": {},
   "outputs": [
    {
     "data": {
      "text/plain": [
       "(array([4.508583]), array([[2.99902179]]))"
      ]
     },
     "execution_count": 7,
     "metadata": {},
     "output_type": "execute_result"
    }
   ],
   "source": [
    "from sklearn.linear_model import LinearRegression\n",
    "lin_reg = LinearRegression()\n",
    "lin_reg.fit(X,y)\n",
    "lin_reg.intercept_, lin_reg.coef_"
   ]
  },
  {
   "cell_type": "code",
   "execution_count": 8,
   "metadata": {},
   "outputs": [
    {
     "data": {
      "text/plain": [
       "array([[ 4.508583  ],\n",
       "       [10.50662658]])"
      ]
     },
     "execution_count": 8,
     "metadata": {},
     "output_type": "execute_result"
    }
   ],
   "source": [
    "lin_reg.predict(X_new)"
   ]
  },
  {
   "cell_type": "markdown",
   "metadata": {},
   "source": [
    "The least squares function can also be called directly:"
   ]
  },
  {
   "cell_type": "code",
   "execution_count": 9,
   "metadata": {},
   "outputs": [
    {
     "data": {
      "text/plain": [
       "array([[4.508583  ],\n",
       "       [2.99902179]])"
      ]
     },
     "execution_count": 9,
     "metadata": {},
     "output_type": "execute_result"
    }
   ],
   "source": [
    "theta_best_svd, residuals, rank, s = np.linalg.lstsq(X_b, y, rcond=1e-6)\n",
    "theta_best_svd"
   ]
  },
  {
   "cell_type": "markdown",
   "metadata": {},
   "source": [
    "Using the Scikit-Learn's Singular Value Decomposition technique can speed up computation times relative to using the closed-form Normal Equation, when the number of features (n) is very large. Using SVD brings the computational complexity from $O(n^{2.4-3})$ to $O(n^2)$"
   ]
  },
  {
   "cell_type": "markdown",
   "metadata": {},
   "source": [
    "## Gradient descent\n",
    "\n",
    "Gradient descent is a set of optimization algorithms used to find optimal solutions to many problems. Parameters are iteratively tuned, minimizing a cost function. The gradient of the error function is calculated locally with respect to the parameter vector $\\bf{\\theta}$, and the parameters are changed in direction of descending gradient. This process is repeated, with gradient then calculated at the new location, until the gradient is zero (meaning the error is minimized).\n",
    "\n",
    "The parameter vector is randomly populated (called random initialization) and is iteratively improved until the cost function/MSE is minimized.\n",
    "\n",
    "In gradient descent, the size of the step is called the learning rate. It is a hyperparameter.\n",
    "\n",
    "If the learning rate is too small, it might take much longer than necessary to move to the optimum. If the learning rate is too large, the parameter vector might skip over the optimum alltogether. \n",
    "\n",
    "Lastly, if the cost function has several local minima, gradient descent might congerve on a local minimum rather than the global minimum. Luckily, for linear regression, the MSE is a nice convex function with one minimum.\n",
    "\n",
    "We first look at implementing Batch Gradient Descent.\n",
    "The gradient of the parameter vector is calculated over the entire training set (which means it's very slow on large data sets) as shown below:\n",
    "$$\\nabla_{\\theta}MSE(\\bf{\\theta}) = \\frac{2}{m}\\bf{X}^T(\\bf{X\\theta} - \\bf{y})$$\n",
    "\n",
    "The parameter vector for the next step is then:\n",
    "$$\\bf{\\theta}^{\\mathrm{next}\\ \\mathrm{step}} = \\bf{\\theta} - \\eta \\nabla_{\\theta} \\mathrm{MSE}(\\bf{\\theta})$$\n",
    "\n",
    "Implementing this below:"
   ]
  },
  {
   "cell_type": "code",
   "execution_count": 10,
   "metadata": {},
   "outputs": [],
   "source": [
    "eta = 0.5 # this is the learning rate/scaling the step size\n",
    "n_iterations = 10\n",
    "m = 100\n",
    "\n",
    "gradient_vec = []\n",
    "theta_vec = []\n",
    "theta = np.random.randn(2,1) #random intialization\n",
    "\n",
    "for iterations in np.arange(n_iterations)+1:\n",
    "    gradients = 2/m * X_b.T.dot(X_b.dot(theta) - y)\n",
    "    gradient_vec = np.append(gradient_vec, gradients)\n",
    "    theta = theta - eta * gradients\n",
    "    theta_vec = np.append(theta_vec, theta)"
   ]
  },
  {
   "cell_type": "code",
   "execution_count": 11,
   "metadata": {},
   "outputs": [],
   "source": [
    "y_bgd1 = np.empty(10)\n",
    "y_bgd2 = np.empty(10)\n",
    "for iterations in np.arange(n_iterations):\n",
    "    y_bgd1[iterations] = theta_vec[iterations*2] + theta_vec[iterations*2+1]*min(X)\n",
    "    y_bgd2[iterations] = theta_vec[iterations*2] + theta_vec[iterations*2+1]*max(X)"
   ]
  },
  {
   "cell_type": "code",
   "execution_count": 12,
   "metadata": {},
   "outputs": [
    {
     "data": {
      "image/png": "[encoded data removed]",
      "text/plain": [
       "<Figure size 432x288 with 1 Axes>"
      ]
     },
     "metadata": {
      "needs_background": "light"
     },
     "output_type": "display_data"
    }
   ],
   "source": [
    "for i in range(10):\n",
    "    plt.plot([min(X), max(X)],[y_bgd1[i],y_bgd2[i]], 'r-')\n",
    "plt.plot(X, y, 'b.')\n",
    "plt.ylim(-3,14)\n",
    "plt.xlabel(\"X\")\n",
    "plt.ylabel(\"Y\")\n",
    "plt.title(\"First 10 steps, eta=0.5\")\n",
    "plt.show()"
   ]
  },
  {
   "cell_type": "code",
   "execution_count": 13,
   "metadata": {},
   "outputs": [
    {
     "data": {
      "image/png": "[encoded data removed]",
      "text/plain": [
       "<Figure size 432x288 with 1 Axes>"
      ]
     },
     "metadata": {
      "needs_background": "light"
     },
     "output_type": "display_data"
    }
   ],
   "source": [
    "for i in range(10):\n",
    "    plt.plot([min(X), max(X)],[y_bgd1[i],y_bgd2[i]], 'r-')\n",
    "plt.plot(X, y, 'b.')\n",
    "plt.ylim(0,12)\n",
    "plt.xlabel(\"X\")\n",
    "plt.ylabel(\"Y\")\n",
    "plt.title(\"First 10 steps, eta=0.1\")\n",
    "plt.show()"
   ]
  },
  {
   "cell_type": "code",
   "execution_count": 63,
   "metadata": {},
   "outputs": [
    {
     "data": {
      "image/png": "[encoded data removed]",
      "text/plain": [
       "<Figure size 432x288 with 1 Axes>"
      ]
     },
     "metadata": {
      "needs_background": "light"
     },
     "output_type": "display_data"
    }
   ],
   "source": [
    "for i in range(10):\n",
    "    plt.plot([min(X), max(X)],[y_bgd1[i],y_bgd2[i]], 'r-')\n",
    "plt.plot(X, y, 'b.')\n",
    "plt.ylim(0,12)\n",
    "plt.xlabel(\"X\")\n",
    "plt.ylabel(\"Y\")\n",
    "plt.title(\"First 10 steps, eta=0.02\")\n",
    "plt.show()"
   ]
  },
  {
   "cell_type": "markdown",
   "metadata": {},
   "source": [
    "We see from the three plots above (each with a different learning rate) that a learning rate that is too slow (0.02) leads to an unnecessary number of steps to get to the optimum. A learning rate that's too high (0.5) will skip back and forth over the optimum.\n",
    "\n",
    "One way of setting the number of iterations in the algorithm is to set a large number, but to interupt the algorithm once the norm of the gradient vector reaches a small value. This value $\\epsilon$ is called the tolerance.\n",
    "\n",
    "### Stochastic Gradient Descent\n",
    "\n",
    "As opposed to Batch GD (Gradient Descent) which uses the entire training set to calculate the gradient at each step, Stochastic GD uses one randomly selected instance to calculate the gradient. This is a much faster method, practical for large data sets. However, its path to the minimum is less smooth than Batch GD. This randomness can help escape local minima, but can also prevent the algorithm from finding the real global optimum. To get around this, a technique called *simulated annealing is used*, in which the learning rate starts out high (to escape local optima and approach the solution more rapidly) and is gradually ramped down (to converge on the optimum). The function determining the way in which the learning rate is changed is called the *learning schedule*.\n",
    "\n",
    "An implementation, with a simple learning schedule, follows:"
   ]
  },
  {
   "cell_type": "code",
   "execution_count": 14,
   "metadata": {},
   "outputs": [],
   "source": [
    "n_epochs = 50\n",
    "t0, t1 = 5,50 #learning schedule hyperparameters\n",
    "m = 1000\n",
    "\n",
    "def learning_schedule(t):\n",
    "    return t0 / (t+t1)\n",
    "\n",
    "theta = np.random.randn(2,1) #random initialization\n",
    "\n",
    "for epoch in range(n_epochs):\n",
    "    for i in range(m):\n",
    "        random_index = np.random.randint(m)\n",
    "        xi = X_b[random_index:random_index+1]\n",
    "        yi = y[random_index:random_index+1]\n",
    "        gradients = 2 * xi.T.dot(xi.dot(theta) - yi)\n",
    "        eta = learning_schedule(epoch*m + i)\n",
    "        theta = theta - eta * gradients"
   ]
  },
  {
   "cell_type": "code",
   "execution_count": 15,
   "metadata": {},
   "outputs": [
    {
     "data": {
      "text/plain": [
       "array([[3.86368065],\n",
       "       [3.5312475 ]])"
      ]
     },
     "execution_count": 15,
     "metadata": {},
     "output_type": "execute_result"
    }
   ],
   "source": [
    "theta"
   ]
  },
  {
   "cell_type": "markdown",
   "metadata": {},
   "source": [
    "Linear Regression by Stochastic GD can be done with Scikit-Learn via the SGDRegressor class. It defaults to a squared error cost function. Here we set the max number of iterations to be 1000, but the algorithm will stop sooner if the norm of the gradient vector reaches the tolerance, set to 1e-3 here."
   ]
  },
  {
   "cell_type": "code",
   "execution_count": 16,
   "metadata": {},
   "outputs": [
    {
     "data": {
      "text/plain": [
       "SGDRegressor(eta0=0.1, penalty=None)"
      ]
     },
     "execution_count": 16,
     "metadata": {},
     "output_type": "execute_result"
    }
   ],
   "source": [
    "from sklearn.linear_model import SGDRegressor\n",
    "sgd_reg = SGDRegressor(max_iter=1000, tol=1e-3, penalty=None, eta0=0.1)\n",
    "sgd_reg.fit(X, y.ravel())"
   ]
  },
  {
   "cell_type": "code",
   "execution_count": 17,
   "metadata": {},
   "outputs": [
    {
     "data": {
      "text/plain": [
       "(array([4.48004916]), array([3.00505158]))"
      ]
     },
     "execution_count": 17,
     "metadata": {},
     "output_type": "execute_result"
    }
   ],
   "source": [
    "sgd_reg.intercept_, sgd_reg.coef_"
   ]
  },
  {
   "cell_type": "markdown",
   "metadata": {},
   "source": [
    "### Mini-batch Gradient Descent\n",
    "\n",
    "Mini-batch GD is basically an intermediate between Batch and Stochastic GD. At each step, the gradient is compute from a random, small subset of the instances, instead of from all instances (as in Batch GD) or of from just one instance (as in Stochastic GD). This makes it a faster method for large data sets and faster for many training instances.\n",
    "\n",
    "## Polynomial Regression\n",
    "\n",
    "What if the data isn't just a simple line? Well, nonlinear data can still be fit with a linear model, by simply adding powers of each feature as a new feature.\n",
    "\n",
    "Let's start exploring this. First we generate some quadratic data with some noise."
   ]
  },
  {
   "cell_type": "code",
   "execution_count": 45,
   "metadata": {},
   "outputs": [],
   "source": [
    "m = 100\n",
    "X = 6 * np.random.rand(m,1) - 3\n",
    "y = 0.5 * X **2 + X + 2 + np.random.randn(m,1)"
   ]
  },
  {
   "cell_type": "code",
   "execution_count": 46,
   "metadata": {},
   "outputs": [
    {
     "data": {
      "image/png": "[encoded data removed]",
      "text/plain": [
       "<Figure size 432x288 with 1 Axes>"
      ]
     },
     "metadata": {
      "needs_background": "light"
     },
     "output_type": "display_data"
    }
   ],
   "source": [
    "plt.plot(X, y, 'b.')\n",
    "plt.xlabel(\"X\")\n",
    "plt.ylabel(\"y\")\n",
    "plt.show()"
   ]
  },
  {
   "cell_type": "markdown",
   "metadata": {},
   "source": [
    "To transform the training data, we use Scikit-Learn's PolynomialFeatures class. We add the square of each feature as new features.\n",
    "X_poly contains X (the original feature) as well as the square of X."
   ]
  },
  {
   "cell_type": "code",
   "execution_count": 47,
   "metadata": {},
   "outputs": [
    {
     "data": {
      "text/plain": [
       "array([0.91944409, 0.84537743])"
      ]
     },
     "execution_count": 47,
     "metadata": {},
     "output_type": "execute_result"
    }
   ],
   "source": [
    "from sklearn.preprocessing import PolynomialFeatures\n",
    "poly_features = PolynomialFeatures(degree=2, include_bias=False)\n",
    "X_poly = poly_features.fit_transform(X)\n",
    "X_poly[0]"
   ]
  },
  {
   "cell_type": "markdown",
   "metadata": {},
   "source": [
    "Now we can do a standard linear regression on X_poly and y."
   ]
  },
  {
   "cell_type": "code",
   "execution_count": 49,
   "metadata": {},
   "outputs": [
    {
     "data": {
      "text/plain": [
       "(array([2.25294221]), array([[0.97780308, 0.44870548]]))"
      ]
     },
     "execution_count": 49,
     "metadata": {},
     "output_type": "execute_result"
    }
   ],
   "source": [
    "lin_reg = LinearRegression()\n",
    "lin_reg.fit(X_poly, y)\n",
    "lin_reg.intercept_, lin_reg.coef_"
   ]
  },
  {
   "cell_type": "code",
   "execution_count": 66,
   "metadata": {},
   "outputs": [],
   "source": [
    "X_sorted = np.linspace(-3,3,100)\n",
    "y_poly = lin_reg.coef_[0][1]*X_sorted**2 + lin_reg.coef_[0][0]*X_sorted+lin_reg.intercept_[0]\n",
    "y_real = 0.5*X_sorted**2 + X_sorted + 2"
   ]
  },
  {
   "cell_type": "code",
   "execution_count": 69,
   "metadata": {},
   "outputs": [
    {
     "data": {
      "image/png": "[encoded data removed]",
      "text/plain": [
       "<Figure size 432x288 with 1 Axes>"
      ]
     },
     "metadata": {
      "needs_background": "light"
     },
     "output_type": "display_data"
    }
   ],
   "source": [
    "plt.plot(X, y, 'b.', label = \"Data\")\n",
    "plt.plot(X_sorted, y_poly, 'r-', label = \"Prediction\")\n",
    "plt.plot(X_sorted, y_real, 'g-', label = \"Real\")\n",
    "plt.xlabel(\"X\")\n",
    "plt.ylabel(\"y\")\n",
    "plt.legend()\n",
    "plt.show()"
   ]
  },
  {
   "cell_type": "markdown",
   "metadata": {},
   "source": [
    "## Learning Curves\n",
    "\n",
    "These are curves of the model performance on the training set and the validation set as a function of training set size (or the training iteration). To generate learning curves, you simple train a model several times on different sized subsets of the training set and evaluate its performace.\n",
    "\n",
    "The following code defines a function that plots the learning curves of a model given some training data. "
   ]
  },
  {
   "cell_type": "code",
   "execution_count": 71,
   "metadata": {},
   "outputs": [],
   "source": [
    "from sklearn.metrics import mean_squared_error\n",
    "from sklearn.model_selection import train_test_split\n",
    "\n",
    "def plot_learning_curves(model, X, y):\n",
    "    X_train, X_val, y_train, y_val = train_test_split(X, y, test_size=0.2)\n",
    "    train_errors, val_errors = [],[]\n",
    "    for m in range(1, len(X_train)):\n",
    "        model.fit(X_train[:m], y_train[:m])\n",
    "        y_train_predict = model.predict(X_train[:m])\n",
    "        y_val_predict = model.predict(X_val)\n",
    "        train_errors.append(mean_squared_error(y_train[:m], y_train_predict))\n",
    "        val_errors.append(mean_squared_error(y_val, y_val_predict))\n",
    "    plt.plot(np.sqrt(train_errors), \"r-+\", linewidth=2, label=\"train\")\n",
    "    plt.plot(np.sqrt(val_errors), \"b-\", linewidth=3, label=\"val\")"
   ]
  },
  {
   "cell_type": "code",
   "execution_count": 74,
   "metadata": {},
   "outputs": [
    {
     "data": {
      "text/plain": [
       "Text(0, 0.5, 'RMSE')"
      ]
     },
     "execution_count": 74,
     "metadata": {},
     "output_type": "execute_result"
    },
    {
     "data": {
      "image/png": "[encoded data removed]",
      "text/plain": [
       "<Figure size 432x288 with 1 Axes>"
      ]
     },
     "metadata": {
      "needs_background": "light"
     },
     "output_type": "display_data"
    }
   ],
   "source": [
    "lin_reg = LinearRegression()\n",
    "plot_learning_curves(lin_reg, X, y)\n",
    "plt.legend()\n",
    "plt.xlabel(\"Training set size\")\n",
    "plt.ylabel(\"RMSE\")"
   ]
  },
  {
   "cell_type": "markdown",
   "metadata": {},
   "source": [
    "When the training set is small, the model is able to fit it perfectly, hence the training error starting low. However it generalizes poorly, hence the validation curve starting high. The curve above is typical for an underfitting model. Both curves reach a fairly high, close plateau.\n",
    "\n",
    "Let's now try fitting a 10th degree polynomial to the same data."
   ]
  },
  {
   "cell_type": "code",
   "execution_count": 80,
   "metadata": {},
   "outputs": [
    {
     "data": {
      "text/plain": [
       "(0.0, 4.0)"
      ]
     },
     "execution_count": 80,
     "metadata": {},
     "output_type": "execute_result"
    },
    {
     "data": {
      "image/png": "[encoded data removed]",
      "text/plain": [
       "<Figure size 432x288 with 1 Axes>"
      ]
     },
     "metadata": {
      "needs_background": "light"
     },
     "output_type": "display_data"
    }
   ],
   "source": [
    "from sklearn.pipeline import Pipeline\n",
    "\n",
    "polynomial_regression = Pipeline([\n",
    "    (\"poly_features\", PolynomialFeatures(degree=10, include_bias=False)),\n",
    "    (\"lin_reg\", LinearRegression()),\n",
    "])\n",
    "\n",
    "plot_learning_curves(polynomial_regression, X, y)\n",
    "plt.legend()\n",
    "plt.xlabel(\"Training set size\")\n",
    "plt.ylabel(\"RMSE\")\n",
    "plt.ylim(0,4)"
   ]
  },
  {
   "cell_type": "markdown",
   "metadata": {},
   "source": [
    "This is an example of overfitting. The error in the training curve is overall lower than for the linear regression example and there is a gap between the training and validation curves that persists.\n",
    "\n",
    "\n",
    "### Bias/variance tradeoff\n",
    "\n",
    "A model's generalization error is due to a combination of three different factors:\n",
    "- Bias: this is due to wrong assumptions, such as assuming quadratic data is linear. A high-bias model most likely leads to underfitting the training data.\n",
    "- Variance: this is due to the model being very sensitive to small variations in the training set. For example, too high of a degree polynomial will likely have high-variance and overfit the training data.\n",
    "- Irreducible error: this is due to inherent noisiness of the data. The only way around this is to clean your data.\n",
    "\n",
    "Increasing a model's comlexity usually increases the variance and decreases the bias and vice versa. Hence, \"bias/variance tradeoff\".\n"
   ]
  },
  {
   "cell_type": "markdown",
   "metadata": {},
   "source": [
    "## Regularized linear models\n",
    "\n",
    "To reduce overfitting, we can regularize our models (constrain them). The fewer degrees of freedom in the model, the hard it is to overfit the data. A simple way of regularizing a polynomial model is to reduce the degree of the polynomial.\n",
    "\n",
    "For a linear model, regularization is done by constraining the weights in the model. Here we will looks at three different ways of doing this: Ridge Regression, Lasso Regression, and Elastic Net.\n",
    "\n",
    "### Ridge regression\n",
    "\n",
    "Ridge regression is a regularized version of Linear Regression. The following regularization term is added to the cost function. This forces the algorithm to keep the weights as small as possible. Note that the term should only be used during training, it should be removed when evaluating the model's performance.\n",
    "\n",
    "$$\\alpha \\Sigma_{i=1}^n \\theta_i^2$$\n",
    "\n",
    "Note that it is common for the cost function used during training to be different from the one used as performance measure.\n",
    "\n",
    "The hyperparameter $\\alpha$ controls how much the model is regularized. If $\\alpha=0$, we just have the familiar Linear Regression. If $\\alpha$ is very large, then all the weights are basically 0 and the model is just a flat line at the data's mean.\n",
    "\n",
    "The Ridge Regression cost function is the following. Note that the bias term $\\theta_0$ is not included in the sum, it is not regularized.\n",
    "\n",
    "$$J(\\theta) = \\mathrm{MSE}(\\theta) + \\alpha \\frac{1}{2} \\Sigma_{i=1}^n \\theta_i^2$$\n",
    "\n",
    "Also note that it is important to scale the data prior to performing Ridge Regression.\n",
    "\n",
    "Like Linear Regression, Ridge Regression can be done either using the closed-form equation, or with Gradient Descent. The closed form is the following (with A being an n+1 x n+1 identity matrix, with the first entry being a zero, corresponding to the bias term not being regularized).\n",
    "\n",
    "$$ \\hat{\\theta} = (X^TX + \\alpha A)^{-1} X^T y$$\n",
    "\n",
    "Below we go through an example first of closed-form Ridge Regression with Scikit-Learn and second of Stochastic GD."
   ]
  },
  {
   "cell_type": "code",
   "execution_count": 81,
   "metadata": {},
   "outputs": [
    {
     "data": {
      "text/plain": [
       "array([[4.88180599]])"
      ]
     },
     "execution_count": 81,
     "metadata": {},
     "output_type": "execute_result"
    }
   ],
   "source": [
    "from sklearn.linear_model import Ridge\n",
    "ridge_reg = Ridge(alpha=1, solver=\"cholesky\")\n",
    "ridge_reg.fit(X,y)\n",
    "ridge_reg.predict([[1.5]])"
   ]
  },
  {
   "cell_type": "code",
   "execution_count": 82,
   "metadata": {},
   "outputs": [
    {
     "data": {
      "text/plain": [
       "array([4.84883583])"
      ]
     },
     "execution_count": 82,
     "metadata": {},
     "output_type": "execute_result"
    }
   ],
   "source": [
    "sgd_reg = SGDRegressor(penalty=\"l2\")\n",
    "sgd_reg.fit(X, y.ravel())\n",
    "sgd_reg.predict([[1.5]])"
   ]
  },
  {
   "cell_type": "markdown",
   "metadata": {},
   "source": [
    "The penalty hyperparameter above indicates the type of regularization we want to use. Setting it to \"l2\" indicates that half the square of the l2 norm of the weight vector should be added to the cost function, which is Ridge Regression.\n",
    "\n",
    "### Lasso regression\n",
    "\n",
    "Least Absolute Shrinkage and Selection Operator Regression (LASSO for short) is another regularization of Linear Regression. The regularization term added to the cost function is the l1 norm of the weight vector (rather than the l2 norm used in Ridge).\n",
    "\n",
    "$$J(\\theta) = \\mathrm{MSE}(\\theta) + \\alpha \\Sigma_{i=1}^n |\\theta_i|$$\n",
    "\n",
    "Lasso Regression tends to completely eliminate (set the weights to zero) the least important features."
   ]
  },
  {
   "cell_type": "code",
   "execution_count": null,
   "metadata": {},
   "outputs": [],
   "source": []
  }
 ],
 "metadata": {
  "kernelspec": {
   "display_name": "Python 3",
   "language": "python",
   "name": "python3"
  },
  "language_info": {
   "codemirror_mode": {
    "name": "ipython",
    "version": 3
   },
   "file_extension": ".py",
   "mimetype": "text/x-python",
   "name": "python",
   "nbconvert_exporter": "python",
   "pygments_lexer": "ipython3",
   "version": "3.8.3"
  }
 },
 "nbformat": 4,
 "nbformat_minor": 4
}
